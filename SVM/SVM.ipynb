{
 "cells": [
  {
   "cell_type": "code",
   "execution_count": 182,
   "id": "e3cce52a",
   "metadata": {},
   "outputs": [],
   "source": [
    "import numpy as np\n",
    "import scipy.linalg as la\n",
    "import scipy.optimize as opt"
   ]
  },
  {
   "cell_type": "code",
   "execution_count": 194,
   "id": "a1c9300a",
   "metadata": {},
   "outputs": [],
   "source": [
    "def J(w,yi,xi):\n",
    "    j = 1/2*np.matmul(np.transpose(w),w)\n",
    "    for i in range(n):\n",
    "        j += C*max(0,1-y[i]*np.matmul(np.transpose(w),x[i]))\n",
    "    return j\n",
    "\n",
    "def gradJ(w,yi,xi):\n",
    "    gj = np.transpose(w)\n",
    "    for i in range(n):\n",
    "        if(1-y[i]*np.matmul(np.transpose(w),x[i]) > 0):\n",
    "            gj = gj -1*C * y[i]*x[i]\n",
    "    print(gj)\n",
    "    return np.transpose(gj)\n",
    "\n",
    "def rateThr(r0,t):\n",
    "    R = np.array([0.01,0.005,0.0025,0])\n",
    "    return R[t]\n",
    "\n",
    "#The rate for practice problem A\n",
    "def ratePracA(r0,t):\n",
    "    a = 0.1\n",
    "    return(r0/(1+r0*t/a))\n",
    "\n",
    "#The rate for practice problem B\n",
    "def ratePracB(r0,t):\n",
    "    return(r0/(1+t))"
   ]
  },
  {
   "cell_type": "code",
   "execution_count": 195,
   "id": "ea73b3bd",
   "metadata": {},
   "outputs": [],
   "source": [
    "def ssgd(w0,X,C,rFunc,r0,T):\n",
    "    w0 = np.transpose(w0)\n",
    "    w = w0\n",
    "    r = r0\n",
    "    m = X.shape[0]\n",
    "    k = 1\n",
    "    for t in range(T):\n",
    "        #print(t)\n",
    "        #print(r)\n",
    "        np.random.shuffle(X)\n",
    "        for j in range(m):\n",
    "            #print(k) #Uncomment for theory problem\n",
    "            #print(w) #Uncomment for theory problem\n",
    "            xj = X[j,:-1]\n",
    "            #print(xj)\n",
    "            yj = X[j,-1]\n",
    "            #print(yj)\n",
    "            if(yj*np.dot(w,xj) <= 1):\n",
    "                #print(yj*np.matmul(w,xj))\n",
    "                #print(yj*xj)\n",
    "                w = w - r*(w0-C*m*yj*xj)\n",
    "                #print(w)\n",
    "            else:\n",
    "                w = (1-r)*w0\n",
    "            k += 1\n",
    "        r = rFunc(r,t)\n",
    "    return w\n",
    "\n",
    "def testSSGD(w,X):\n",
    "    N = X.shape[0]\n",
    "    n = 0\n",
    "    for i in range(N):\n",
    "        predict = 0\n",
    "        if(np.dot(w,X[i,:-1]) >= 0):\n",
    "            predict = 1\n",
    "        else:\n",
    "            predict = -1\n",
    "        if(predict == X[i,-1]):\n",
    "            n += 1\n",
    "    return n/N"
   ]
  },
  {
   "cell_type": "code",
   "execution_count": 103,
   "id": "5efebe88",
   "metadata": {},
   "outputs": [
    {
     "name": "stdout",
     "output_type": "stream",
     "text": [
      "0.01\n",
      "1\n",
      "[0.]\n",
      "[ 1.   0.5 -1.   0.3]\n",
      "[[ 0.03   0.015 -0.03   0.009]]\n",
      "2\n",
      "[-0.057]\n",
      "[-1.  1.  2.  2.]\n",
      "[[0.    0.045 0.03  0.069]]\n",
      "3\n",
      "[-0.099]\n",
      "[ 1.   1.5  0.2 -2.5]\n",
      "[[ 0.03   0.09   0.036 -0.006]]\n",
      "[0.005]\n",
      "4\n",
      "[0.0372]\n",
      "[ 1.   0.5 -1.   0.3]\n",
      "[[ 0.045   0.0975  0.021  -0.0015]]\n",
      "5\n",
      "[0.0915]\n",
      "[-1.  1.  2.  2.]\n",
      "[[0.03   0.1125 0.051  0.0285]]\n",
      "6\n",
      "[0.1377]\n",
      "[ 1.   1.5  0.2 -2.5]\n",
      "[[ 0.045  0.135  0.054 -0.009]]\n",
      "[0.0025]\n",
      "7\n",
      "[0.0558]\n",
      "[ 1.   0.5 -1.   0.3]\n",
      "[[ 0.0525   0.13875  0.0465  -0.00675]]\n",
      "8\n",
      "[0.16575]\n",
      "[-1.  1.  2.  2.]\n",
      "[[0.045   0.14625 0.0615  0.00825]]\n",
      "9\n",
      "[0.25605]\n",
      "[ 1.   1.5  0.2 -2.5]\n",
      "[[ 0.0525  0.1575  0.063  -0.0105]]\n"
     ]
    }
   ],
   "source": [
    "#Used for testing theory problem\n",
    "#Be sure to uncomment print lines to get correct output.\n",
    "w0 = np.array(np.mat('0; 0; 0; 0'))\n",
    "X = np.array(np.mat('1 0.5 -1 0.3 1; 1 -1 -2 -2 -1; 1 1.5 0.2 -2.5 1'))\n",
    "n = 3\n",
    "r0 = 0.01\n",
    "w = ssgd(w0,X,1,ratePrac,r0,3)"
   ]
  },
  {
   "cell_type": "code",
   "execution_count": 222,
   "id": "fe67eaeb",
   "metadata": {},
   "outputs": [],
   "source": [
    "#Load in and clean up data\n",
    "global trainData\n",
    "trainData = np.genfromtxt('bank-note/train.csv',delimiter = ',')\n",
    "b = np.ones(trainData.shape[0])\n",
    "trainData = np.insert(trainData,0,b,axis=1)\n",
    "trainData[:,-1][trainData[:,-1] == 0] = -1\n",
    "global testData \n",
    "testData = np.genfromtxt('bank-note/test.csv',delimiter = ',')\n",
    "b = np.ones(testData.shape[0])\n",
    "testData = np.insert(testData,0,b,axis=1)\n",
    "testData[:,-1][testData[:,-1] == 0] = -1\n",
    "\n",
    "#print(trainData.shape)\n",
    "w0 = np.zeros((trainData.shape[1]-1,1))\n",
    "#print(w)\n",
    "r0 = 0.01\n",
    "T = 100"
   ]
  },
  {
   "cell_type": "code",
   "execution_count": 200,
   "id": "35bf05d2",
   "metadata": {},
   "outputs": [
    {
     "name": "stdout",
     "output_type": "stream",
     "text": [
      "C = 100/873: [[-0.00205483 -0.02203521 -0.00414563 -0.00433416 -0.01146624]] 0.8715596330275229 0.876\n",
      "C = 500/873: [[ 0.02054833 -0.14545405  0.03843884 -0.16231228 -0.07132124]] 0.5802752293577982 0.572\n",
      "C = 700/873: [[-0.0431515  -0.15567048 -0.08589882 -0.04849653 -0.00238052]] 0.8853211009174312 0.878\n"
     ]
    }
   ],
   "source": [
    "#2a\n",
    "C = 100/873\n",
    "w = ssgd(w0,trainData,C,ratePracA,r0,T)\n",
    "print(\"C = 100/873:\",w,testSSGD(w,trainData),testSSGD(w,testData))\n",
    "\n",
    "C = 500/873\n",
    "w = ssgd(w0,trainData,C,ratePracA,r0,T)\n",
    "print(\"C = 500/873:\",w,testSSGD(w,trainData),testSSGD(w,testData))\n",
    "\n",
    "C = 700/873\n",
    "w = ssgd(w0,trainData,C,ratePracA,r0,T)\n",
    "print(\"C = 700/873:\",w,testSSGD(w,trainData),testSSGD(w,testData))"
   ]
  },
  {
   "cell_type": "code",
   "execution_count": 201,
   "id": "90c153e2",
   "metadata": {},
   "outputs": [
    {
     "name": "stdout",
     "output_type": "stream",
     "text": [
      "C = 100/873: [[-0.00236813 -0.03892002 -0.05311799  0.00691495  0.00204509]] 0.6938073394495413 0.69\n",
      "C = 500/873: [[-0.00267456 -0.03505626 -0.04801007  0.00301076  0.00298516]] 0.6995412844036697 0.702\n",
      "C = 700/873: [[-0.00064224 -0.01008153 -0.01497289  0.00162733  0.00105151]] 0.6869266055045872 0.68\n"
     ]
    }
   ],
   "source": [
    "#2b\n",
    "C = 100/873\n",
    "w = ssgd(w0,trainData,C,ratePracB,r0,T)\n",
    "print(\"C = 100/873:\",w,testSSGD(w,trainData),testSSGD(w,testData))\n",
    "\n",
    "C = 500/873\n",
    "w = ssgd(w0,trainData,C,ratePracB,r0,T)\n",
    "print(\"C = 500/873:\",w,testSSGD(w,trainData),testSSGD(w,testData))\n",
    "\n",
    "C = 700/873\n",
    "w = ssgd(w0,trainData,C,ratePracB,r0,T)\n",
    "print(\"C = 700/873:\",w,testSSGD(w,trainData),testSSGD(w,testData))"
   ]
  },
  {
   "cell_type": "code",
   "execution_count": 250,
   "id": "a743550d",
   "metadata": {},
   "outputs": [],
   "source": [
    "def dualSVM(a,args):\n",
    "    #print(a)\n",
    "    kernel = args\n",
    "    X = trainData\n",
    "    n = len(a)\n",
    "    result = 0\n",
    "    for i in range(n):\n",
    "        xi = X[i,:-1]\n",
    "        yi = X[i,-1]\n",
    "        for j in range(n):\n",
    "            xj = X[j,:-1]\n",
    "            yj = X[j,-1]\n",
    "            result += a[i]*a[j]*yi*yj*kernel(xi,xj)\n",
    "        result = result/2\n",
    "        result += a[i]\n",
    "    return -1*result\n",
    "\n",
    "def con1(a):\n",
    "    y = trainData[:,-1]\n",
    "    n = len(y)\n",
    "    result = 0\n",
    "    for i in range(n):\n",
    "        result += a[i]*y[i]\n",
    "    return result\n",
    "\n",
    "def con2(a):\n",
    "    n = len(a)\n",
    "    for i in range(n):\n",
    "        if(a[i] < 0 or a[i] > C):\n",
    "            return 1\n",
    "    return 0\n",
    "\n",
    "def dotKernel(xi,xj):\n",
    "    return np.dot(xi,xj)"
   ]
  },
  {
   "cell_type": "code",
   "execution_count": 252,
   "id": "248fddb1",
   "metadata": {
    "scrolled": false
   },
   "outputs": [
    {
     "ename": "KeyboardInterrupt",
     "evalue": "",
     "output_type": "error",
     "traceback": [
      "\u001b[1;31m---------------------------------------------------------------------------\u001b[0m",
      "\u001b[1;31mKeyboardInterrupt\u001b[0m                         Traceback (most recent call last)",
      "\u001b[1;32m~\\AppData\\Local\\Temp/ipykernel_4436/1400298120.py\u001b[0m in \u001b[0;36m<module>\u001b[1;34m\u001b[0m\n\u001b[0;32m      3\u001b[0m cons = ({'type': 'ineq', 'fun': con1},\n\u001b[0;32m      4\u001b[0m         {'type': 'ineq', 'fun': con2})\n\u001b[1;32m----> 5\u001b[1;33m a = opt.minimize(dualSVM,a0,args=(dotKernel),\n\u001b[0m\u001b[0;32m      6\u001b[0m                  \u001b[0mconstraints\u001b[0m \u001b[1;33m=\u001b[0m \u001b[0mcons\u001b[0m\u001b[1;33m,\u001b[0m\u001b[0mmethod\u001b[0m \u001b[1;33m=\u001b[0m \u001b[1;34m'SLSQP'\u001b[0m\u001b[1;33m,\u001b[0m\u001b[0mtol\u001b[0m \u001b[1;33m=\u001b[0m \u001b[1;36m1e-6\u001b[0m\u001b[1;33m,\u001b[0m\u001b[1;33m\u001b[0m\u001b[1;33m\u001b[0m\u001b[0m\n\u001b[0;32m      7\u001b[0m                  options={'disp':True,'maxiter':1})\n",
      "\u001b[1;32mC:\\ProgramData\\Miniconda3\\lib\\site-packages\\scipy\\optimize\\_minimize.py\u001b[0m in \u001b[0;36mminimize\u001b[1;34m(fun, x0, args, method, jac, hess, hessp, bounds, constraints, tol, callback, options)\u001b[0m\n\u001b[0;32m    629\u001b[0m         \u001b[1;32mreturn\u001b[0m \u001b[0m_minimize_cobyla\u001b[0m\u001b[1;33m(\u001b[0m\u001b[0mfun\u001b[0m\u001b[1;33m,\u001b[0m \u001b[0mx0\u001b[0m\u001b[1;33m,\u001b[0m \u001b[0margs\u001b[0m\u001b[1;33m,\u001b[0m \u001b[0mconstraints\u001b[0m\u001b[1;33m,\u001b[0m \u001b[1;33m**\u001b[0m\u001b[0moptions\u001b[0m\u001b[1;33m)\u001b[0m\u001b[1;33m\u001b[0m\u001b[1;33m\u001b[0m\u001b[0m\n\u001b[0;32m    630\u001b[0m     \u001b[1;32melif\u001b[0m \u001b[0mmeth\u001b[0m \u001b[1;33m==\u001b[0m \u001b[1;34m'slsqp'\u001b[0m\u001b[1;33m:\u001b[0m\u001b[1;33m\u001b[0m\u001b[1;33m\u001b[0m\u001b[0m\n\u001b[1;32m--> 631\u001b[1;33m         return _minimize_slsqp(fun, x0, args, jac, bounds,\n\u001b[0m\u001b[0;32m    632\u001b[0m                                constraints, callback=callback, **options)\n\u001b[0;32m    633\u001b[0m     \u001b[1;32melif\u001b[0m \u001b[0mmeth\u001b[0m \u001b[1;33m==\u001b[0m \u001b[1;34m'trust-constr'\u001b[0m\u001b[1;33m:\u001b[0m\u001b[1;33m\u001b[0m\u001b[1;33m\u001b[0m\u001b[0m\n",
      "\u001b[1;32mC:\\ProgramData\\Miniconda3\\lib\\site-packages\\scipy\\optimize\\slsqp.py\u001b[0m in \u001b[0;36m_minimize_slsqp\u001b[1;34m(func, x0, args, jac, bounds, constraints, maxiter, ftol, iprint, disp, eps, callback, finite_diff_rel_step, **unknown_options)\u001b[0m\n\u001b[0;32m    373\u001b[0m \u001b[1;33m\u001b[0m\u001b[0m\n\u001b[0;32m    374\u001b[0m     \u001b[1;31m# ScalarFunction provides function and gradient evaluation\u001b[0m\u001b[1;33m\u001b[0m\u001b[1;33m\u001b[0m\u001b[1;33m\u001b[0m\u001b[0m\n\u001b[1;32m--> 375\u001b[1;33m     sf = _prepare_scalar_function(func, x, jac=jac, args=args, epsilon=eps,\n\u001b[0m\u001b[0;32m    376\u001b[0m                                   \u001b[0mfinite_diff_rel_step\u001b[0m\u001b[1;33m=\u001b[0m\u001b[0mfinite_diff_rel_step\u001b[0m\u001b[1;33m,\u001b[0m\u001b[1;33m\u001b[0m\u001b[1;33m\u001b[0m\u001b[0m\n\u001b[0;32m    377\u001b[0m                                   bounds=new_bounds)\n",
      "\u001b[1;32mC:\\ProgramData\\Miniconda3\\lib\\site-packages\\scipy\\optimize\\optimize.py\u001b[0m in \u001b[0;36m_prepare_scalar_function\u001b[1;34m(fun, x0, jac, args, bounds, epsilon, finite_diff_rel_step, hess)\u001b[0m\n\u001b[0;32m    259\u001b[0m     \u001b[1;31m# ScalarFunction caches. Reuse of fun(x) during grad\u001b[0m\u001b[1;33m\u001b[0m\u001b[1;33m\u001b[0m\u001b[1;33m\u001b[0m\u001b[0m\n\u001b[0;32m    260\u001b[0m     \u001b[1;31m# calculation reduces overall function evaluations.\u001b[0m\u001b[1;33m\u001b[0m\u001b[1;33m\u001b[0m\u001b[1;33m\u001b[0m\u001b[0m\n\u001b[1;32m--> 261\u001b[1;33m     sf = ScalarFunction(fun, x0, args, grad, hess,\n\u001b[0m\u001b[0;32m    262\u001b[0m                         finite_diff_rel_step, bounds, epsilon=epsilon)\n\u001b[0;32m    263\u001b[0m \u001b[1;33m\u001b[0m\u001b[0m\n",
      "\u001b[1;32mC:\\ProgramData\\Miniconda3\\lib\\site-packages\\scipy\\optimize\\_differentiable_functions.py\u001b[0m in \u001b[0;36m__init__\u001b[1;34m(self, fun, x0, args, grad, hess, finite_diff_rel_step, finite_diff_bounds, epsilon)\u001b[0m\n\u001b[0;32m    157\u001b[0m \u001b[1;33m\u001b[0m\u001b[0m\n\u001b[0;32m    158\u001b[0m         \u001b[0mself\u001b[0m\u001b[1;33m.\u001b[0m\u001b[0m_update_grad_impl\u001b[0m \u001b[1;33m=\u001b[0m \u001b[0mupdate_grad\u001b[0m\u001b[1;33m\u001b[0m\u001b[1;33m\u001b[0m\u001b[0m\n\u001b[1;32m--> 159\u001b[1;33m         \u001b[0mself\u001b[0m\u001b[1;33m.\u001b[0m\u001b[0m_update_grad\u001b[0m\u001b[1;33m(\u001b[0m\u001b[1;33m)\u001b[0m\u001b[1;33m\u001b[0m\u001b[1;33m\u001b[0m\u001b[0m\n\u001b[0m\u001b[0;32m    160\u001b[0m \u001b[1;33m\u001b[0m\u001b[0m\n\u001b[0;32m    161\u001b[0m         \u001b[1;31m# Hessian Evaluation\u001b[0m\u001b[1;33m\u001b[0m\u001b[1;33m\u001b[0m\u001b[1;33m\u001b[0m\u001b[0m\n",
      "\u001b[1;32mC:\\ProgramData\\Miniconda3\\lib\\site-packages\\scipy\\optimize\\_differentiable_functions.py\u001b[0m in \u001b[0;36m_update_grad\u001b[1;34m(self)\u001b[0m\n\u001b[0;32m    236\u001b[0m     \u001b[1;32mdef\u001b[0m \u001b[0m_update_grad\u001b[0m\u001b[1;33m(\u001b[0m\u001b[0mself\u001b[0m\u001b[1;33m)\u001b[0m\u001b[1;33m:\u001b[0m\u001b[1;33m\u001b[0m\u001b[1;33m\u001b[0m\u001b[0m\n\u001b[0;32m    237\u001b[0m         \u001b[1;32mif\u001b[0m \u001b[1;32mnot\u001b[0m \u001b[0mself\u001b[0m\u001b[1;33m.\u001b[0m\u001b[0mg_updated\u001b[0m\u001b[1;33m:\u001b[0m\u001b[1;33m\u001b[0m\u001b[1;33m\u001b[0m\u001b[0m\n\u001b[1;32m--> 238\u001b[1;33m             \u001b[0mself\u001b[0m\u001b[1;33m.\u001b[0m\u001b[0m_update_grad_impl\u001b[0m\u001b[1;33m(\u001b[0m\u001b[1;33m)\u001b[0m\u001b[1;33m\u001b[0m\u001b[1;33m\u001b[0m\u001b[0m\n\u001b[0m\u001b[0;32m    239\u001b[0m             \u001b[0mself\u001b[0m\u001b[1;33m.\u001b[0m\u001b[0mg_updated\u001b[0m \u001b[1;33m=\u001b[0m \u001b[1;32mTrue\u001b[0m\u001b[1;33m\u001b[0m\u001b[1;33m\u001b[0m\u001b[0m\n\u001b[0;32m    240\u001b[0m \u001b[1;33m\u001b[0m\u001b[0m\n",
      "\u001b[1;32mC:\\ProgramData\\Miniconda3\\lib\\site-packages\\scipy\\optimize\\_differentiable_functions.py\u001b[0m in \u001b[0;36mupdate_grad\u001b[1;34m()\u001b[0m\n\u001b[0;32m    153\u001b[0m                 \u001b[0mself\u001b[0m\u001b[1;33m.\u001b[0m\u001b[0m_update_fun\u001b[0m\u001b[1;33m(\u001b[0m\u001b[1;33m)\u001b[0m\u001b[1;33m\u001b[0m\u001b[1;33m\u001b[0m\u001b[0m\n\u001b[0;32m    154\u001b[0m                 \u001b[0mself\u001b[0m\u001b[1;33m.\u001b[0m\u001b[0mngev\u001b[0m \u001b[1;33m+=\u001b[0m \u001b[1;36m1\u001b[0m\u001b[1;33m\u001b[0m\u001b[1;33m\u001b[0m\u001b[0m\n\u001b[1;32m--> 155\u001b[1;33m                 self.g = approx_derivative(fun_wrapped, self.x, f0=self.f,\n\u001b[0m\u001b[0;32m    156\u001b[0m                                            **finite_diff_options)\n\u001b[0;32m    157\u001b[0m \u001b[1;33m\u001b[0m\u001b[0m\n",
      "\u001b[1;32mC:\\ProgramData\\Miniconda3\\lib\\site-packages\\scipy\\optimize\\_numdiff.py\u001b[0m in \u001b[0;36mapprox_derivative\u001b[1;34m(fun, x0, method, rel_step, abs_step, f0, bounds, sparsity, as_linear_operator, args, kwargs)\u001b[0m\n\u001b[0;32m    484\u001b[0m \u001b[1;33m\u001b[0m\u001b[0m\n\u001b[0;32m    485\u001b[0m         \u001b[1;32mif\u001b[0m \u001b[0msparsity\u001b[0m \u001b[1;32mis\u001b[0m \u001b[1;32mNone\u001b[0m\u001b[1;33m:\u001b[0m\u001b[1;33m\u001b[0m\u001b[1;33m\u001b[0m\u001b[0m\n\u001b[1;32m--> 486\u001b[1;33m             return _dense_difference(fun_wrapped, x0, f0, h,\n\u001b[0m\u001b[0;32m    487\u001b[0m                                      use_one_sided, method)\n\u001b[0;32m    488\u001b[0m         \u001b[1;32melse\u001b[0m\u001b[1;33m:\u001b[0m\u001b[1;33m\u001b[0m\u001b[1;33m\u001b[0m\u001b[0m\n",
      "\u001b[1;32mC:\\ProgramData\\Miniconda3\\lib\\site-packages\\scipy\\optimize\\_numdiff.py\u001b[0m in \u001b[0;36m_dense_difference\u001b[1;34m(fun, x0, f0, h, use_one_sided, method)\u001b[0m\n\u001b[0;32m    555\u001b[0m             \u001b[0mx\u001b[0m \u001b[1;33m=\u001b[0m \u001b[0mx0\u001b[0m \u001b[1;33m+\u001b[0m \u001b[0mh_vecs\u001b[0m\u001b[1;33m[\u001b[0m\u001b[0mi\u001b[0m\u001b[1;33m]\u001b[0m\u001b[1;33m\u001b[0m\u001b[1;33m\u001b[0m\u001b[0m\n\u001b[0;32m    556\u001b[0m             \u001b[0mdx\u001b[0m \u001b[1;33m=\u001b[0m \u001b[0mx\u001b[0m\u001b[1;33m[\u001b[0m\u001b[0mi\u001b[0m\u001b[1;33m]\u001b[0m \u001b[1;33m-\u001b[0m \u001b[0mx0\u001b[0m\u001b[1;33m[\u001b[0m\u001b[0mi\u001b[0m\u001b[1;33m]\u001b[0m  \u001b[1;31m# Recompute dx as exactly representable number.\u001b[0m\u001b[1;33m\u001b[0m\u001b[1;33m\u001b[0m\u001b[0m\n\u001b[1;32m--> 557\u001b[1;33m             \u001b[0mdf\u001b[0m \u001b[1;33m=\u001b[0m \u001b[0mfun\u001b[0m\u001b[1;33m(\u001b[0m\u001b[0mx\u001b[0m\u001b[1;33m)\u001b[0m \u001b[1;33m-\u001b[0m \u001b[0mf0\u001b[0m\u001b[1;33m\u001b[0m\u001b[1;33m\u001b[0m\u001b[0m\n\u001b[0m\u001b[0;32m    558\u001b[0m         \u001b[1;32melif\u001b[0m \u001b[0mmethod\u001b[0m \u001b[1;33m==\u001b[0m \u001b[1;34m'3-point'\u001b[0m \u001b[1;32mand\u001b[0m \u001b[0muse_one_sided\u001b[0m\u001b[1;33m[\u001b[0m\u001b[0mi\u001b[0m\u001b[1;33m]\u001b[0m\u001b[1;33m:\u001b[0m\u001b[1;33m\u001b[0m\u001b[1;33m\u001b[0m\u001b[0m\n\u001b[0;32m    559\u001b[0m             \u001b[0mx1\u001b[0m \u001b[1;33m=\u001b[0m \u001b[0mx0\u001b[0m \u001b[1;33m+\u001b[0m \u001b[0mh_vecs\u001b[0m\u001b[1;33m[\u001b[0m\u001b[0mi\u001b[0m\u001b[1;33m]\u001b[0m\u001b[1;33m\u001b[0m\u001b[1;33m\u001b[0m\u001b[0m\n",
      "\u001b[1;32mC:\\ProgramData\\Miniconda3\\lib\\site-packages\\scipy\\optimize\\_numdiff.py\u001b[0m in \u001b[0;36mfun_wrapped\u001b[1;34m(x)\u001b[0m\n\u001b[0;32m    435\u001b[0m \u001b[1;33m\u001b[0m\u001b[0m\n\u001b[0;32m    436\u001b[0m     \u001b[1;32mdef\u001b[0m \u001b[0mfun_wrapped\u001b[0m\u001b[1;33m(\u001b[0m\u001b[0mx\u001b[0m\u001b[1;33m)\u001b[0m\u001b[1;33m:\u001b[0m\u001b[1;33m\u001b[0m\u001b[1;33m\u001b[0m\u001b[0m\n\u001b[1;32m--> 437\u001b[1;33m         \u001b[0mf\u001b[0m \u001b[1;33m=\u001b[0m \u001b[0mnp\u001b[0m\u001b[1;33m.\u001b[0m\u001b[0matleast_1d\u001b[0m\u001b[1;33m(\u001b[0m\u001b[0mfun\u001b[0m\u001b[1;33m(\u001b[0m\u001b[0mx\u001b[0m\u001b[1;33m,\u001b[0m \u001b[1;33m*\u001b[0m\u001b[0margs\u001b[0m\u001b[1;33m,\u001b[0m \u001b[1;33m**\u001b[0m\u001b[0mkwargs\u001b[0m\u001b[1;33m)\u001b[0m\u001b[1;33m)\u001b[0m\u001b[1;33m\u001b[0m\u001b[1;33m\u001b[0m\u001b[0m\n\u001b[0m\u001b[0;32m    438\u001b[0m         \u001b[1;32mif\u001b[0m \u001b[0mf\u001b[0m\u001b[1;33m.\u001b[0m\u001b[0mndim\u001b[0m \u001b[1;33m>\u001b[0m \u001b[1;36m1\u001b[0m\u001b[1;33m:\u001b[0m\u001b[1;33m\u001b[0m\u001b[1;33m\u001b[0m\u001b[0m\n\u001b[0;32m    439\u001b[0m             raise RuntimeError(\"`fun` return value has \"\n",
      "\u001b[1;32mC:\\ProgramData\\Miniconda3\\lib\\site-packages\\scipy\\optimize\\_differentiable_functions.py\u001b[0m in \u001b[0;36mfun_wrapped\u001b[1;34m(x)\u001b[0m\n\u001b[0;32m    132\u001b[0m             \u001b[1;31m# Overwriting results in undefined behaviour because\u001b[0m\u001b[1;33m\u001b[0m\u001b[1;33m\u001b[0m\u001b[1;33m\u001b[0m\u001b[0m\n\u001b[0;32m    133\u001b[0m             \u001b[1;31m# fun(self.x) will change self.x, with the two no longer linked.\u001b[0m\u001b[1;33m\u001b[0m\u001b[1;33m\u001b[0m\u001b[1;33m\u001b[0m\u001b[0m\n\u001b[1;32m--> 134\u001b[1;33m             \u001b[1;32mreturn\u001b[0m \u001b[0mfun\u001b[0m\u001b[1;33m(\u001b[0m\u001b[0mnp\u001b[0m\u001b[1;33m.\u001b[0m\u001b[0mcopy\u001b[0m\u001b[1;33m(\u001b[0m\u001b[0mx\u001b[0m\u001b[1;33m)\u001b[0m\u001b[1;33m,\u001b[0m \u001b[1;33m*\u001b[0m\u001b[0margs\u001b[0m\u001b[1;33m)\u001b[0m\u001b[1;33m\u001b[0m\u001b[1;33m\u001b[0m\u001b[0m\n\u001b[0m\u001b[0;32m    135\u001b[0m \u001b[1;33m\u001b[0m\u001b[0m\n\u001b[0;32m    136\u001b[0m         \u001b[1;32mdef\u001b[0m \u001b[0mupdate_fun\u001b[0m\u001b[1;33m(\u001b[0m\u001b[1;33m)\u001b[0m\u001b[1;33m:\u001b[0m\u001b[1;33m\u001b[0m\u001b[1;33m\u001b[0m\u001b[0m\n",
      "\u001b[1;32m~\\AppData\\Local\\Temp/ipykernel_4436/471256030.py\u001b[0m in \u001b[0;36mdualSVM\u001b[1;34m(a, args)\u001b[0m\n\u001b[0;32m     11\u001b[0m             \u001b[0mxj\u001b[0m \u001b[1;33m=\u001b[0m \u001b[0mX\u001b[0m\u001b[1;33m[\u001b[0m\u001b[0mj\u001b[0m\u001b[1;33m,\u001b[0m\u001b[1;33m:\u001b[0m\u001b[1;33m-\u001b[0m\u001b[1;36m1\u001b[0m\u001b[1;33m]\u001b[0m\u001b[1;33m\u001b[0m\u001b[1;33m\u001b[0m\u001b[0m\n\u001b[0;32m     12\u001b[0m             \u001b[0myj\u001b[0m \u001b[1;33m=\u001b[0m \u001b[0mX\u001b[0m\u001b[1;33m[\u001b[0m\u001b[0mj\u001b[0m\u001b[1;33m,\u001b[0m\u001b[1;33m-\u001b[0m\u001b[1;36m1\u001b[0m\u001b[1;33m]\u001b[0m\u001b[1;33m\u001b[0m\u001b[1;33m\u001b[0m\u001b[0m\n\u001b[1;32m---> 13\u001b[1;33m             \u001b[0mresult\u001b[0m \u001b[1;33m+=\u001b[0m \u001b[0ma\u001b[0m\u001b[1;33m[\u001b[0m\u001b[0mi\u001b[0m\u001b[1;33m]\u001b[0m\u001b[1;33m*\u001b[0m\u001b[0ma\u001b[0m\u001b[1;33m[\u001b[0m\u001b[0mj\u001b[0m\u001b[1;33m]\u001b[0m\u001b[1;33m*\u001b[0m\u001b[0myi\u001b[0m\u001b[1;33m*\u001b[0m\u001b[0myj\u001b[0m\u001b[1;33m*\u001b[0m\u001b[0mkernel\u001b[0m\u001b[1;33m(\u001b[0m\u001b[0mxi\u001b[0m\u001b[1;33m,\u001b[0m\u001b[0mxj\u001b[0m\u001b[1;33m)\u001b[0m\u001b[1;33m\u001b[0m\u001b[1;33m\u001b[0m\u001b[0m\n\u001b[0m\u001b[0;32m     14\u001b[0m         \u001b[0mresult\u001b[0m \u001b[1;33m=\u001b[0m \u001b[0mresult\u001b[0m\u001b[1;33m/\u001b[0m\u001b[1;36m2\u001b[0m\u001b[1;33m\u001b[0m\u001b[1;33m\u001b[0m\u001b[0m\n\u001b[0;32m     15\u001b[0m         \u001b[0mresult\u001b[0m \u001b[1;33m+=\u001b[0m \u001b[0ma\u001b[0m\u001b[1;33m[\u001b[0m\u001b[0mi\u001b[0m\u001b[1;33m]\u001b[0m\u001b[1;33m\u001b[0m\u001b[1;33m\u001b[0m\u001b[0m\n",
      "\u001b[1;32m~\\AppData\\Local\\Temp/ipykernel_4436/471256030.py\u001b[0m in \u001b[0;36mdotKernel\u001b[1;34m(xi, xj)\u001b[0m\n\u001b[0;32m     32\u001b[0m \u001b[1;33m\u001b[0m\u001b[0m\n\u001b[0;32m     33\u001b[0m \u001b[1;32mdef\u001b[0m \u001b[0mdotKernel\u001b[0m\u001b[1;33m(\u001b[0m\u001b[0mxi\u001b[0m\u001b[1;33m,\u001b[0m\u001b[0mxj\u001b[0m\u001b[1;33m)\u001b[0m\u001b[1;33m:\u001b[0m\u001b[1;33m\u001b[0m\u001b[1;33m\u001b[0m\u001b[0m\n\u001b[1;32m---> 34\u001b[1;33m     \u001b[1;32mreturn\u001b[0m \u001b[0mnp\u001b[0m\u001b[1;33m.\u001b[0m\u001b[0mdot\u001b[0m\u001b[1;33m(\u001b[0m\u001b[0mxi\u001b[0m\u001b[1;33m,\u001b[0m\u001b[0mxj\u001b[0m\u001b[1;33m)\u001b[0m\u001b[1;33m\u001b[0m\u001b[1;33m\u001b[0m\u001b[0m\n\u001b[0m",
      "\u001b[1;32m<__array_function__ internals>\u001b[0m in \u001b[0;36mdot\u001b[1;34m(*args, **kwargs)\u001b[0m\n",
      "\u001b[1;31mKeyboardInterrupt\u001b[0m: "
     ]
    }
   ],
   "source": [
    "a0 = np.zeros((1,trainData.shape[0]))\n",
    "C = 100/873\n",
    "cons = ({'type': 'ineq', 'fun': con1},\n",
    "        {'type': 'ineq', 'fun': con2})\n",
    "a = opt.minimize(dualSVM,a0,args=(dotKernel),\n",
    "                 constraints = cons,method = 'SLSQP',tol = 1e-6,\n",
    "                 options={'disp':True,'maxiter':1})\n",
    "print('a:',a)\n",
    "w = np.zeros((1,5))\n",
    "for i in range(trainData.shape[0]):\n",
    "    w += a[i]*trainData[i,-1]*trainData[i,:-1]\n",
    "print(w)"
   ]
  }
 ],
 "metadata": {
  "kernelspec": {
   "display_name": "Python 3 (ipykernel)",
   "language": "python",
   "name": "python3"
  },
  "language_info": {
   "codemirror_mode": {
    "name": "ipython",
    "version": 3
   },
   "file_extension": ".py",
   "mimetype": "text/x-python",
   "name": "python",
   "nbconvert_exporter": "python",
   "pygments_lexer": "ipython3",
   "version": "3.8.5"
  }
 },
 "nbformat": 4,
 "nbformat_minor": 5
}
