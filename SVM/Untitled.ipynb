{
 "cells": [
  {
   "cell_type": "code",
   "execution_count": 182,
   "id": "bd39d98a",
   "metadata": {},
   "outputs": [],
   "source": [
    "import numpy as np\n",
    "import scipy.linalg as la\n",
    "import scipy.optimize as opt"
   ]
  },
  {
   "cell_type": "code",
   "execution_count": 194,
   "id": "b0c8e5e9",
   "metadata": {},
   "outputs": [],
   "source": [
    "def J(w,yi,xi):\n",
    "    j = 1/2*np.matmul(np.transpose(w),w)\n",
    "    for i in range(n):\n",
    "        j += C*max(0,1-y[i]*np.matmul(np.transpose(w),x[i]))\n",
    "    return j\n",
    "\n",
    "def gradJ(w,yi,xi):\n",
    "    gj = np.transpose(w)\n",
    "    for i in range(n):\n",
    "        if(1-y[i]*np.matmul(np.transpose(w),x[i]) > 0):\n",
    "            gj = gj -1*C * y[i]*x[i]\n",
    "    print(gj)\n",
    "    return np.transpose(gj)\n",
    "\n",
    "def rateThr(r0,t):\n",
    "    R = np.array([0.01,0.005,0.0025,0])\n",
    "    return R[t]\n",
    "\n",
    "def ratePracA(r0,t):\n",
    "    a = 0.1\n",
    "    return(r0/(1+r0*t/a))\n",
    "    \n",
    "def ratePracB(r0,t):\n",
    "    return(r0/(1+t))"
   ]
  },
  {
   "cell_type": "code",
   "execution_count": 195,
   "id": "502c4db1",
   "metadata": {},
   "outputs": [],
   "source": [
    "def ssgd(w0,X,C,rFunc,r0,T):\n",
    "    w0 = np.transpose(w0)\n",
    "    w = w0\n",
    "    r = r0\n",
    "    m = X.shape[0]\n",
    "    k = 1\n",
    "    for t in range(T):\n",
    "        #print(t)\n",
    "        #print(r)\n",
    "        np.random.shuffle(X)\n",
    "        for j in range(m):\n",
    "            #print(k) #Uncomment for theory problem\n",
    "            #print(w) #Uncomment for theory problem\n",
    "            xj = X[j,:-1]\n",
    "            #print(xj)\n",
    "            yj = X[j,-1]\n",
    "            #print(yj)\n",
    "            if(yj*np.dot(w,xj) <= 1):\n",
    "                #print(yj*np.matmul(w,xj))\n",
    "                #print(yj*xj)\n",
    "                w = w - r*(w0-C*m*yj*xj)\n",
    "                #print(w)\n",
    "            else:\n",
    "                w = (1-r)*w0\n",
    "            k += 1\n",
    "        r = rFunc(r,t)\n",
    "    return w\n",
    "\n",
    "def testSSGD(w,X):\n",
    "    N = X.shape[0]\n",
    "    n = 0\n",
    "    for i in range(N):\n",
    "        predict = 0\n",
    "        if(np.dot(w,X[i,:-1]) >= 0):\n",
    "            predict = 1\n",
    "        else:\n",
    "            predict = -1\n",
    "        if(predict == X[i,-1]):\n",
    "            n += 1\n",
    "    return n/N"
   ]
  },
  {
   "cell_type": "code",
   "execution_count": 103,
   "id": "3ffb1778",
   "metadata": {},
   "outputs": [
    {
     "name": "stdout",
     "output_type": "stream",
     "text": [
      "0.01\n",
      "1\n",
      "[0.]\n",
      "[ 1.   0.5 -1.   0.3]\n",
      "[[ 0.03   0.015 -0.03   0.009]]\n",
      "2\n",
      "[-0.057]\n",
      "[-1.  1.  2.  2.]\n",
      "[[0.    0.045 0.03  0.069]]\n",
      "3\n",
      "[-0.099]\n",
      "[ 1.   1.5  0.2 -2.5]\n",
      "[[ 0.03   0.09   0.036 -0.006]]\n",
      "[0.005]\n",
      "4\n",
      "[0.0372]\n",
      "[ 1.   0.5 -1.   0.3]\n",
      "[[ 0.045   0.0975  0.021  -0.0015]]\n",
      "5\n",
      "[0.0915]\n",
      "[-1.  1.  2.  2.]\n",
      "[[0.03   0.1125 0.051  0.0285]]\n",
      "6\n",
      "[0.1377]\n",
      "[ 1.   1.5  0.2 -2.5]\n",
      "[[ 0.045  0.135  0.054 -0.009]]\n",
      "[0.0025]\n",
      "7\n",
      "[0.0558]\n",
      "[ 1.   0.5 -1.   0.3]\n",
      "[[ 0.0525   0.13875  0.0465  -0.00675]]\n",
      "8\n",
      "[0.16575]\n",
      "[-1.  1.  2.  2.]\n",
      "[[0.045   0.14625 0.0615  0.00825]]\n",
      "9\n",
      "[0.25605]\n",
      "[ 1.   1.5  0.2 -2.5]\n",
      "[[ 0.0525  0.1575  0.063  -0.0105]]\n"
     ]
    }
   ],
   "source": [
    "#Used for testing theory problem\n",
    "#Be sure to uncomment print lines to get correct output.\n",
    "w0 = np.array(np.mat('0; 0; 0; 0'))\n",
    "X = np.array(np.mat('1 0.5 -1 0.3 1; 1 -1 -2 -2 -1; 1 1.5 0.2 -2.5 1'))\n",
    "n = 3\n",
    "r0 = 0.01\n",
    "w = ssgd(w0,X,1,ratePrac,r0,3)"
   ]
  },
  {
   "cell_type": "code",
   "execution_count": 222,
   "id": "14d27af6",
   "metadata": {},
   "outputs": [],
   "source": [
    "#Load in and clean up data\n",
    "global trainData\n",
    "trainData = np.genfromtxt('bank-note/train.csv',delimiter = ',')\n",
    "b = np.ones(trainData.shape[0])\n",
    "trainData = np.insert(trainData,0,b,axis=1)\n",
    "trainData[:,-1][trainData[:,-1] == 0] = -1\n",
    "global testData \n",
    "testData = np.genfromtxt('bank-note/test.csv',delimiter = ',')\n",
    "b = np.ones(testData.shape[0])\n",
    "testData = np.insert(testData,0,b,axis=1)\n",
    "testData[:,-1][testData[:,-1] == 0] = -1\n",
    "\n",
    "#print(trainData.shape)\n",
    "w0 = np.zeros((trainData.shape[1]-1,1))\n",
    "#print(w)\n",
    "r0 = 0.01\n",
    "T = 100"
   ]
  },
  {
   "cell_type": "code",
   "execution_count": 200,
   "id": "4d6e32af",
   "metadata": {},
   "outputs": [
    {
     "name": "stdout",
     "output_type": "stream",
     "text": [
      "C = 100/873: [[-0.00205483 -0.02203521 -0.00414563 -0.00433416 -0.01146624]] 0.8715596330275229 0.876\n",
      "C = 500/873: [[ 0.02054833 -0.14545405  0.03843884 -0.16231228 -0.07132124]] 0.5802752293577982 0.572\n",
      "C = 700/873: [[-0.0431515  -0.15567048 -0.08589882 -0.04849653 -0.00238052]] 0.8853211009174312 0.878\n"
     ]
    }
   ],
   "source": [
    "#2a\n",
    "C = 100/873\n",
    "w = ssgd(w0,trainData,C,ratePracA,r0,T)\n",
    "print(\"C = 100/873:\",w,testSSGD(w,trainData),testSSGD(w,testData))\n",
    "\n",
    "C = 500/873\n",
    "w = ssgd(w0,trainData,C,ratePracA,r0,T)\n",
    "print(\"C = 500/873:\",w,testSSGD(w,trainData),testSSGD(w,testData))\n",
    "\n",
    "C = 700/873\n",
    "w = ssgd(w0,trainData,C,ratePracA,r0,T)\n",
    "print(\"C = 700/873:\",w,testSSGD(w,trainData),testSSGD(w,testData))"
   ]
  },
  {
   "cell_type": "code",
   "execution_count": 201,
   "id": "fa9fa405",
   "metadata": {},
   "outputs": [
    {
     "name": "stdout",
     "output_type": "stream",
     "text": [
      "C = 100/873: [[-0.00236813 -0.03892002 -0.05311799  0.00691495  0.00204509]] 0.6938073394495413 0.69\n",
      "C = 500/873: [[-0.00267456 -0.03505626 -0.04801007  0.00301076  0.00298516]] 0.6995412844036697 0.702\n",
      "C = 700/873: [[-0.00064224 -0.01008153 -0.01497289  0.00162733  0.00105151]] 0.6869266055045872 0.68\n"
     ]
    }
   ],
   "source": [
    "#2b\n",
    "C = 100/873\n",
    "w = ssgd(w0,trainData,C,ratePracB,r0,T)\n",
    "print(\"C = 100/873:\",w,testSSGD(w,trainData),testSSGD(w,testData))\n",
    "\n",
    "C = 500/873\n",
    "w = ssgd(w0,trainData,C,ratePracB,r0,T)\n",
    "print(\"C = 500/873:\",w,testSSGD(w,trainData),testSSGD(w,testData))\n",
    "\n",
    "C = 700/873\n",
    "w = ssgd(w0,trainData,C,ratePracB,r0,T)\n",
    "print(\"C = 700/873:\",w,testSSGD(w,trainData),testSSGD(w,testData))"
   ]
  },
  {
   "cell_type": "code",
   "execution_count": 250,
   "id": "4a808f20",
   "metadata": {},
   "outputs": [],
   "source": [
    "def dualSVM(a,args):\n",
    "    #print(a)\n",
    "    kernel = args\n",
    "    X = trainData\n",
    "    n = len(a)\n",
    "    result = 0\n",
    "    for i in range(n):\n",
    "        xi = X[i,:-1]\n",
    "        yi = X[i,-1]\n",
    "        for j in range(n):\n",
    "            xj = X[j,:-1]\n",
    "            yj = X[j,-1]\n",
    "            result += a[i]*a[j]*yi*yj*kernel(xi,xj)\n",
    "        result = result/2\n",
    "        result += a[i]\n",
    "    return -1*result\n",
    "\n",
    "def con1(a):\n",
    "    y = trainData[:,-1]\n",
    "    n = len(y)\n",
    "    result = 0\n",
    "    for i in range(n):\n",
    "        result += a[i]*y[i]\n",
    "    return result\n",
    "\n",
    "def con2(a):\n",
    "    n = len(a)\n",
    "    for i in range(n):\n",
    "        if(a[i] < 0 or a[i] > C):\n",
    "            return 1\n",
    "    return 0\n",
    "\n",
    "def dotKernel(xi,xj):\n",
    "    return np.dot(xi,xj)"
   ]
  },
  {
   "cell_type": "code",
   "execution_count": null,
   "id": "95ec1820",
   "metadata": {
    "scrolled": false
   },
   "outputs": [],
   "source": [
    "a0 = np.zeros((1,trainData.shape[0]))\n",
    "C = 100/873\n",
    "cons = ({'type': 'ineq', 'fun': con1},\n",
    "        {'type': 'ineq', 'fun': con2})\n",
    "a = opt.minimize(dualSVM,a0,args=(dotKernel),\n",
    "                 constraints = cons,method = 'SLSQP',tol = 1e-6,\n",
    "                 options={'disp':True,'maxiter':1})\n",
    "print('a:',a)\n",
    "w = np.zeros((1,5))\n",
    "for i in range(trainData.shape[0]):\n",
    "    w += a[i]*trainData[i,-1]*trainData[i,:-1]\n",
    "print(w)"
   ]
  }
 ],
 "metadata": {
  "kernelspec": {
   "display_name": "Python 3 (ipykernel)",
   "language": "python",
   "name": "python3"
  },
  "language_info": {
   "codemirror_mode": {
    "name": "ipython",
    "version": 3
   },
   "file_extension": ".py",
   "mimetype": "text/x-python",
   "name": "python",
   "nbconvert_exporter": "python",
   "pygments_lexer": "ipython3",
   "version": "3.8.5"
  }
 },
 "nbformat": 4,
 "nbformat_minor": 5
}
