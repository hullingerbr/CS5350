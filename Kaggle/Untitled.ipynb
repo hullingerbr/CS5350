{
 "cells": [
  {
   "cell_type": "code",
   "execution_count": 160,
   "id": "2bfa70e4",
   "metadata": {},
   "outputs": [],
   "source": [
    "import pandas as pd\n",
    "pd.set_option('display.max_rows', 10000)\n",
    "pd.set_option('display.max_columns', 115)\n",
    "pd.set_option('display.width', 200)\n",
    "from pandas.api.types import is_string_dtype\n",
    "import numpy as np\n",
    "eps = np.finfo(float).eps"
   ]
  },
  {
   "cell_type": "code",
   "execution_count": 161,
   "id": "cc241fb0",
   "metadata": {},
   "outputs": [],
   "source": [
    "def genNumBuckets(data,cats):\n",
    "    #Used to get the buckets for numerical data\n",
    "    buckets = []\n",
    "    for cat in cats:\n",
    "        bucket = []\n",
    "        if(not(is_string_dtype(data[cat]))):\n",
    "            median = data[cat].median()-eps\n",
    "            bucket = [float('-inf'),median,float('inf')]\n",
    "        buckets.append(bucket)\n",
    "    return buckets\n",
    "\n",
    "def genModes(data,cats):\n",
    "    modes = []\n",
    "    for cat in cats:\n",
    "        mode = data[cat].mode().iloc[0]\n",
    "        #print(cat,mode)\n",
    "        modes.append(mode)\n",
    "    \n",
    "    return modes\n",
    "\n",
    "def cleanNumeric(data,cats,buckets):\n",
    "    #Replaces numerical data with given bucket categories\n",
    "    for i in range(len(cats)):\n",
    "        cat = cats[i]\n",
    "        if(not(is_string_dtype(data[cat]))):\n",
    "            data[cat] = pd.cut(data[cat],bins=buckets[i],include_lowest=True,duplicates='drop')\n",
    "    return data\n",
    "\n",
    "def cleanUnknown(data,cats,modes):\n",
    "    for i in range(len(cats)):\n",
    "        data[cats[i]] = data[cats[i]].replace(\"?\",modes[i])\n",
    "    return data\n",
    "        "
   ]
  },
  {
   "cell_type": "code",
   "execution_count": 162,
   "id": "f51ce33e",
   "metadata": {},
   "outputs": [],
   "source": [
    "#Preprocessing for Training Data\n",
    "trainData = pd.read_csv('Data/train_final.csv')\n",
    "#print(trainData)\n",
    "labels = trainData.columns\n",
    "buckets = genNumBuckets(trainData,labels)\n",
    "trainData = cleanNumeric(trainData,labels[:-1],buckets)\n",
    "modes = genModes(trainData,labels)\n",
    "trainData = cleanUnknown(trainData,labels[:-1],modes)\n",
    "#print(trainData)\n",
    "trainData = pd.get_dummies(trainData)\n",
    "dummyLabels = trainData.columns[1:]\n",
    "#print(dummyLabels)\n",
    "#print(trainData)\n",
    "\n",
    "#Preprocessing for Test Data\n",
    "testData = pd.read_csv('Data/test_final.csv')\n",
    "testData = testData.drop(\"ID\",axis=1)\n",
    "#print(testData)\n",
    "testData = cleanNumeric(testData,labels[:-1],buckets)\n",
    "testData = cleanUnknown(testData,labels[:-1],modes)\n",
    "#print(testData)\n",
    "testData = pd.get_dummies(testData)\n",
    "#print(testData)"
   ]
  },
  {
   "cell_type": "code",
   "execution_count": 171,
   "id": "20eb7723",
   "metadata": {},
   "outputs": [
    {
     "name": "stdout",
     "output_type": "stream",
     "text": [
      "0.83984\n"
     ]
    }
   ],
   "source": [
    "#Decision Tree Classifier\n",
    "from sklearn import tree\n",
    "\n",
    "clf = tree.DecisionTreeClassifier(max_depth = 8)\n",
    "clf = clf.fit(trainData[dummyLabels],trainData[labels[-1]])\n",
    "\n",
    "n = len(trainData.index)\n",
    "correct = 0\n",
    "for i in range(n):\n",
    "    prediction = clf.predict(trainData.iloc[i][dummyLabels].array.reshape(1,-1))\n",
    "    actual = trainData.iloc[i][0]\n",
    "    #print(prediction,actual)\n",
    "    if(prediction == actual):\n",
    "        correct += 1\n",
    "\n",
    "print(correct/n)\n",
    "\n",
    "with open('submissions/treeSub.csv', 'w') as f:\n",
    "    f.write(\"ID,Prediction\\n\")\n",
    "    n = len(testData.index)\n",
    "    for i in range(n):\n",
    "        prediction = clf.predict(testData.iloc[i][dummyLabels].array.reshape(1,-1))\n",
    "        toPrint = str(i+1)\n",
    "        toPrint += \",\" + str(prediction[0]) + \"\\n\"\n",
    "        f.write(toPrint)"
   ]
  },
  {
   "cell_type": "code",
   "execution_count": 172,
   "id": "c5015140",
   "metadata": {},
   "outputs": [
    {
     "name": "stdout",
     "output_type": "stream",
     "text": [
      "0.83692\n"
     ]
    }
   ],
   "source": [
    "#Stocastic Gradient Descent\n",
    "from sklearn.linear_model import SGDClassifier\n",
    "\n",
    "clf = SGDClassifier(eta0 = 0.5**11,max_iter=2**30)\n",
    "clf.fit(trainData[dummyLabels],trainData[labels[-1]])\n",
    "\n",
    "n = len(trainData.index)\n",
    "correct = 0\n",
    "for i in range(n):\n",
    "    prediction = clf.predict(trainData.iloc[i][dummyLabels].array.reshape(1,-1))\n",
    "    actual = trainData.iloc[i][0]\n",
    "    #print(prediction,actual)\n",
    "    if(prediction == actual):\n",
    "        correct += 1\n",
    "\n",
    "print(correct/n)\n",
    "\n",
    "with open('submissions/SGDSub.csv', 'w') as f:\n",
    "    f.write(\"ID,Prediction\\n\")\n",
    "    n = len(testData.index)\n",
    "    for i in range(n):\n",
    "        prediction = clf.predict(testData.iloc[i][dummyLabels].array.reshape(1,-1))\n",
    "        toPrint = str(i+1)\n",
    "        toPrint += \",\" + str(prediction[0]) + \"\\n\"\n",
    "        f.write(toPrint)"
   ]
  },
  {
   "cell_type": "code",
   "execution_count": 181,
   "id": "0515292b",
   "metadata": {},
   "outputs": [
    {
     "name": "stdout",
     "output_type": "stream",
     "text": [
      "Classifier Fitting Done\n",
      "0.8588\n"
     ]
    }
   ],
   "source": [
    "#Multi-Layer Perceptron\n",
    "from sklearn.neural_network import MLPClassifier\n",
    "\n",
    "clf = MLPClassifier(activation = 'logistic', solver='adam', alpha=1e-5, hidden_layer_sizes=(30,30,30),max_iter = 1000)\n",
    "clf.fit(trainData[dummyLabels],trainData[labels[-1]])\n",
    "print(\"Classifier Fitting Done\")\n",
    "\n",
    "n = len(trainData.index)\n",
    "correct = 0\n",
    "for i in range(n):\n",
    "    prediction = clf.predict(trainData.iloc[i][dummyLabels].array.reshape(1,-1))\n",
    "    actual = trainData.iloc[i][0]\n",
    "    #print(prediction,actual)\n",
    "    if(prediction == actual):\n",
    "        correct += 1\n",
    "\n",
    "print(correct/n)\n",
    "\n",
    "with open('submissions/MLPSub.csv', 'w') as f:\n",
    "    f.write(\"ID,Prediction\\n\")\n",
    "    n = len(testData.index)\n",
    "    for i in range(n):\n",
    "        prediction = clf.predict(testData.iloc[i][dummyLabels].array.reshape(1,-1))\n",
    "        toPrint = str(i+1)\n",
    "        toPrint += \",\" + str(prediction[0]) + \"\\n\"\n",
    "        f.write(toPrint)"
   ]
  },
  {
   "cell_type": "code",
   "execution_count": null,
   "id": "584397fc",
   "metadata": {},
   "outputs": [],
   "source": []
  }
 ],
 "metadata": {
  "kernelspec": {
   "display_name": "Python 3 (ipykernel)",
   "language": "python",
   "name": "python3"
  },
  "language_info": {
   "codemirror_mode": {
    "name": "ipython",
    "version": 3
   },
   "file_extension": ".py",
   "mimetype": "text/x-python",
   "name": "python",
   "nbconvert_exporter": "python",
   "pygments_lexer": "ipython3",
   "version": "3.8.5"
  }
 },
 "nbformat": 4,
 "nbformat_minor": 5
}
