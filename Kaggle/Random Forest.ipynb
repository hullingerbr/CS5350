{
 "cells": [
  {
   "cell_type": "code",
   "execution_count": 1,
   "id": "49b705cc",
   "metadata": {},
   "outputs": [],
   "source": [
    "import numpy as np\n",
    "\n",
    "import pandas as pd\n",
    "pd.set_option('display.max_rows', 100)\n",
    "pd.set_option('display.max_columns', 115)\n",
    "pd.set_option('display.width', 250)\n",
    "\n",
    "from sklearn.ensemble import RandomForestClassifier"
   ]
  },
  {
   "cell_type": "code",
   "execution_count": 301,
   "id": "7881ac58",
   "metadata": {},
   "outputs": [],
   "source": [
    "trainRaw = pd.read_csv('train_final.csv')\n",
    "\n",
    "testData = pd.read_csv('test_final.csv')"
   ]
  },
  {
   "cell_type": "code",
   "execution_count": 592,
   "id": "6a5e6193",
   "metadata": {},
   "outputs": [],
   "source": [
    "#Drop Duplicate Inputs\n",
    "trainData = trainRaw.drop_duplicates(subset=trainRaw.columns.difference(['income>50K']),keep=False).reset_index(drop=True)\n",
    "x = len(trainData.index)"
   ]
  },
  {
   "cell_type": "code",
   "execution_count": 600,
   "id": "424678e6",
   "metadata": {},
   "outputs": [],
   "source": [
    "#Keep Duplicate Inputs\n",
    "trainData = trainRaw\n",
    "x = len(trainData.index)"
   ]
  },
  {
   "cell_type": "code",
   "execution_count": 569,
   "id": "42fa5aed",
   "metadata": {},
   "outputs": [],
   "source": [
    "#Ignore Training Data with ?\n",
    "trainData = trainData.replace(to_replace = \"?\",value=np.nan)\n",
    "trainData = trainData.dropna().reset_index(drop=True)\n",
    "x = len(trainData.index)\n",
    "data = trainData.append(testData.iloc[:,1:],ignore_index=True)"
   ]
  },
  {
   "cell_type": "code",
   "execution_count": 585,
   "id": "5d433d73",
   "metadata": {},
   "outputs": [],
   "source": [
    "#Replace missing data with mode of column\n",
    "data = trainData.append(testData.iloc[:,1:],ignore_index=True)\n",
    "for col in data.columns:\n",
    "    data[col] = data[col].replace(to_replace=\"?\",value=data[col].mode()[0])"
   ]
  },
  {
   "cell_type": "code",
   "execution_count": 601,
   "id": "c1476a35",
   "metadata": {
    "scrolled": true
   },
   "outputs": [],
   "source": [
    "#Replace missing data with mode matching output\n",
    "for row in range(len(trainData.index)):\n",
    "    for col in range(len(trainData.columns)):\n",
    "        if(trainData.iloc[row,col] == \"?\"):\n",
    "            subTrainData = trainData[trainData['income>50K'] == trainData.iloc[row,-1]]\n",
    "            mode = subTrainData[trainData.columns[col]].mode()[0]\n",
    "            trainData.iloc[row,col] = mode\n",
    "\n",
    "data = trainData.append(testData.iloc[:,1:],ignore_index=True)\n",
    "for col in data.columns:\n",
    "    data[col] = data[col].replace(to_replace=\"?\",value=data[col].mode()[0])\n",
    "    \n",
    "#print(data)"
   ]
  },
  {
   "cell_type": "code",
   "execution_count": 602,
   "id": "80f91273",
   "metadata": {},
   "outputs": [],
   "source": [
    "#Drop fnlwgt and eduction.num, the former because random, the latter because redundant\n",
    "data = data.drop(['fnlwgt','education.num'],axis=1)\n",
    "\n",
    "#Split numerical data\n",
    "data['age'] = pd.cut(x=data['age'],bins = [float('-inf'),data['age'].median(),float('inf')])\n",
    "data['capital.gain'] = pd.cut(x=data['capital.gain'],bins = [float('-inf'),data['capital.gain'].median(),float('inf')])\n",
    "data['capital.loss'] = pd.cut(x=data['capital.loss'],bins = [float('-inf'),data['capital.loss'].median(),float('inf')])\n",
    "data['hours.per.week'] = pd.cut(x=data['hours.per.week'],bins = [float('-inf'),data['hours.per.week'].median(),float('inf')])\n",
    "#print(data)"
   ]
  },
  {
   "cell_type": "code",
   "execution_count": 603,
   "id": "f1b61099",
   "metadata": {},
   "outputs": [
    {
     "name": "stdout",
     "output_type": "stream",
     "text": [
      "48842\n",
      "(25000, 107)\n",
      "25000\n",
      "23842\n"
     ]
    }
   ],
   "source": [
    "datDummies = pd.get_dummies(data.iloc[:,:-1])\n",
    "datDummies = (datDummies-datDummies.min())/(datDummies.max()-datDummies.min())\n",
    "#print(datDummies)\n",
    "\n",
    "X = datDummies.iloc[:x,:]\n",
    "y = data['income>50K'][:x]\n",
    "test = datDummies.iloc[x:,:]\n",
    "print(len(datDummies.index))\n",
    "print(X.shape)\n",
    "N = X.shape[1]\n",
    "print(len(y.index))\n",
    "print(len(test.index))"
   ]
  },
  {
   "cell_type": "code",
   "execution_count": 604,
   "id": "e0e74ecc",
   "metadata": {},
   "outputs": [],
   "source": [
    "n = 200\n",
    "d = 10\n",
    "#c = \"entropy\"\n",
    "c = 'gini'\n",
    "\n",
    "\n",
    "clf = RandomForestClassifier(criterion=c,max_depth=d,n_estimators=n)\n",
    "clf = clf.fit(X,y)"
   ]
  },
  {
   "cell_type": "code",
   "execution_count": 605,
   "id": "47f9fb9a",
   "metadata": {},
   "outputs": [
    {
     "name": "stdout",
     "output_type": "stream",
     "text": [
      "[0. 0. 0. ... 1. 0. 1.]\n"
     ]
    }
   ],
   "source": [
    "yPred = clf.predict(test)\n",
    "print(yPred)"
   ]
  },
  {
   "cell_type": "code",
   "execution_count": 606,
   "id": "615741f2",
   "metadata": {},
   "outputs": [
    {
     "name": "stdout",
     "output_type": "stream",
     "text": [
      "[0. 0. 0. ... 1. 0. 0.]\n"
     ]
    }
   ],
   "source": [
    "valid = np.genfromtxt('validation.csv')\n",
    "print(valid)"
   ]
  },
  {
   "cell_type": "code",
   "execution_count": 607,
   "id": "e288d741",
   "metadata": {},
   "outputs": [
    {
     "name": "stdout",
     "output_type": "stream",
     "text": [
      "0.77005\n"
     ]
    }
   ],
   "source": [
    "count = 0\n",
    "n = len(yPred)\n",
    "for i in range(n):\n",
    "    if(yPred[i] == valid[i]):\n",
    "        count += 1\n",
    "print(f'{count/n*.91784:.5f}')"
   ]
  },
  {
   "cell_type": "code",
   "execution_count": null,
   "id": "03e2868f",
   "metadata": {},
   "outputs": [],
   "source": []
  },
  {
   "cell_type": "code",
   "execution_count": null,
   "id": "b9713952",
   "metadata": {},
   "outputs": [],
   "source": []
  }
 ],
 "metadata": {
  "kernelspec": {
   "display_name": "Python 3 (ipykernel)",
   "language": "python",
   "name": "python3"
  },
  "language_info": {
   "codemirror_mode": {
    "name": "ipython",
    "version": 3
   },
   "file_extension": ".py",
   "mimetype": "text/x-python",
   "name": "python",
   "nbconvert_exporter": "python",
   "pygments_lexer": "ipython3",
   "version": "3.8.5"
  }
 },
 "nbformat": 4,
 "nbformat_minor": 5
}
