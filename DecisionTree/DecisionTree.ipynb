{
 "cells": [
  {
   "cell_type": "code",
   "execution_count": 52,
   "id": "thick-envelope",
   "metadata": {},
   "outputs": [],
   "source": [
    "import numpy as np\n",
    "import pandas as pd\n",
    "eps = np.finfo(float).eps\n",
    "import pprint\n",
    "from scipy import stats"
   ]
  },
  {
   "cell_type": "code",
   "execution_count": 62,
   "id": "continuous-knock",
   "metadata": {},
   "outputs": [],
   "source": [
    "def findEntropy(data):\n",
    "    target = data.keys()[-1]   #To make the code generic, changing target variable class name\n",
    "    entropy = 0\n",
    "    values = data[target].unique()\n",
    "    for value in values:\n",
    "        frac = data[target].value_counts()[value]/len(data[target])\n",
    "        entropy += -frac*np.log2(frac+eps)\n",
    "    return entropy\n",
    "\n",
    "def findEntropyCat(data,cat):\n",
    "    target = data.keys()[-1]\n",
    "    targetVars = data[target].unique()  \n",
    "    variables = data[cat].unique()\n",
    "    entropy2 = 0\n",
    "    for variable in variables:\n",
    "        entropy = 0\n",
    "        for targetVar in targetVars:\n",
    "            num = len(data[cat][data[cat]==variable][data[target] ==targetVar])\n",
    "            den = len(data[cat][data[cat]==variable])\n",
    "            frac = num/(den+eps)\n",
    "            entropy += -frac*np.log2(frac+eps)\n",
    "        frac2 = den/len(data)\n",
    "        entropy2 += -frac2*entropy\n",
    "    #print(entropy2)\n",
    "    return abs(entropy2)\n",
    "\n",
    "def findME(data):\n",
    "    target = data.keys()[-1]   #To make the code generic, changing target variable class name\n",
    "    ME = 0\n",
    "    values = data[target].unique()\n",
    "    for value in values:\n",
    "        frac = data[target].value_counts()[value]/len(data[target])\n",
    "        ME = max(frac,ME)\n",
    "    return 1-ME\n",
    "\n",
    "def findMECat(data,cat):\n",
    "    target = data.keys()[-1]\n",
    "    targetVars = data[target].unique()  \n",
    "    variables = data[cat].unique()\n",
    "    ME2 = 0\n",
    "    for variable in variables:\n",
    "        ME = 0\n",
    "        for targetVar in targetVars:\n",
    "            num = len(data[cat][data[cat]==variable][data[target] ==targetVar])\n",
    "            den = len(data[cat][data[cat]==variable])\n",
    "            frac = num/(den+eps)\n",
    "            ME = max(ME,frac)\n",
    "        frac2 = den/len(data)\n",
    "        ME2 += frac2*ME\n",
    "    return abs(1-ME2)\n",
    "\n",
    "def findGI(data):\n",
    "    target = data.keys()[-1]   #To make the code generic, changing target variable class name\n",
    "    GI = 0\n",
    "    values = data[target].unique()\n",
    "    for value in values:\n",
    "        frac = data[target].value_counts()[value]/len(data[target])\n",
    "        GI += frac**2\n",
    "    return 1-GI\n",
    "\n",
    "def findGICat(data,cat):\n",
    "    target = data.keys()[-1]\n",
    "    targetVars = data[target].unique()  \n",
    "    variables = data[cat].unique()\n",
    "    GI2 = 0\n",
    "    for variable in variables:\n",
    "        GI = 0\n",
    "        for targetVar in targetVars:\n",
    "            num = len(data[cat][data[cat]==variable][data[target] ==targetVar])\n",
    "            den = len(data[cat][data[cat]==variable])\n",
    "            frac = num/(den+eps)\n",
    "            GI += frac**2\n",
    "        frac2 = den/len(data)\n",
    "        GI2 += frac2*GI\n",
    "    return abs(1-GI2)\n",
    "\n",
    "def winner(data,func1,func2):\n",
    "    gains = []\n",
    "    for value in data.keys()[:-1]:\n",
    "        dEnt = func1(data)\n",
    "        catEnt = func2(data,value)\n",
    "        gains.append(dEnt-catEnt)\n",
    "        #print(dEnt,catEnt)\n",
    "    #print(gains)\n",
    "    return data.keys()[:-1][np.argmax(gains)]\n",
    "\n",
    "def getSubtable(data, node, value):\n",
    "    return data[data[node] == value].reset_index(drop=True)\n",
    "\n",
    "def buildTree(data, func1, func2, d = 0, depth = 100000, tree=None):\n",
    "    target = data.keys()[-1]\n",
    "    node = winner(data,func1,func2)\n",
    "    catValue = np.unique(data[node])  \n",
    "    if tree is None:                    \n",
    "        tree={}\n",
    "        tree[node] = {}\n",
    "    for value in catValue:\n",
    "        subtable = getSubtable(data,node,value)\n",
    "        #print(subtable)\n",
    "        clValue,counts = np.unique(subtable[target],return_counts=True)\n",
    "        if len(counts)==1 or d == depth:\n",
    "            tree[node][value] = subtable[target].mode()[0]                               \n",
    "        else:        \n",
    "            tree[node][value] = buildTree(subtable,func1,func2,d+1,depth)   \n",
    "    return tree"
   ]
  },
  {
   "cell_type": "code",
   "execution_count": 63,
   "id": "floating-lighting",
   "metadata": {},
   "outputs": [
    {
     "name": "stdout",
     "output_type": "stream",
     "text": [
      "   x1  x2  x3  x4  y\n",
      "0   0   0   1   0  0\n",
      "1   0   1   0   0  0\n",
      "2   0   0   1   1  1\n",
      "3   1   0   0   1  1\n",
      "4   0   1   1   0  0\n",
      "5   1   1   0   0  0\n",
      "6   0   1   0   1  0\n"
     ]
    }
   ],
   "source": [
    "file = 'p1' #car or bank\n",
    "with open(file+'/categories.txt') as f:\n",
    "    categories = f.readlines()\n",
    "categories = categories[0].strip().split(', ')\n",
    "tData = pd.read_csv(file+'/train.csv', names = categories)\n",
    "numCats = len(categories)\n",
    "print(tData)"
   ]
  },
  {
   "cell_type": "code",
   "execution_count": 64,
   "id": "coordinated-somalia",
   "metadata": {},
   "outputs": [
    {
     "name": "stdout",
     "output_type": "stream",
     "text": [
      "{'x2': {0: {'x4': {0: 0, 1: 1}}, 1: 0}}\n"
     ]
    }
   ],
   "source": [
    "tree = buildTree(tData,findEntropy,findEntropyCat)\n",
    "pprint.pprint(tree)"
   ]
  },
  {
   "cell_type": "code",
   "execution_count": 65,
   "id": "assured-asthma",
   "metadata": {},
   "outputs": [
    {
     "name": "stdout",
     "output_type": "stream",
     "text": [
      "{'x2': {0: {'x4': {0: 0, 1: 1}}, 1: 0}}\n"
     ]
    }
   ],
   "source": [
    "tree = buildTree(tData,findME,findMECat)\n",
    "pprint.pprint(tree)"
   ]
  },
  {
   "cell_type": "code",
   "execution_count": 66,
   "id": "vertical-protection",
   "metadata": {},
   "outputs": [
    {
     "name": "stdout",
     "output_type": "stream",
     "text": [
      "{'x2': {0: {'x4': {0: 0, 1: 1}}, 1: 0}}\n"
     ]
    }
   ],
   "source": [
    "tree = buildTree(tData,findGI,findGICat)\n",
    "pprint.pprint(tree)"
   ]
  },
  {
   "cell_type": "code",
   "execution_count": null,
   "id": "liquid-bacon",
   "metadata": {},
   "outputs": [],
   "source": []
  }
 ],
 "metadata": {
  "kernelspec": {
   "display_name": "Python 3",
   "language": "python",
   "name": "python3"
  },
  "language_info": {
   "codemirror_mode": {
    "name": "ipython",
    "version": 3
   },
   "file_extension": ".py",
   "mimetype": "text/x-python",
   "name": "python",
   "nbconvert_exporter": "python",
   "pygments_lexer": "ipython3",
   "version": "3.8.5"
  }
 },
 "nbformat": 4,
 "nbformat_minor": 5
}
