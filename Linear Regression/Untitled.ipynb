{
 "cells": [
  {
   "cell_type": "code",
   "execution_count": 51,
   "id": "99a5b5bc",
   "metadata": {},
   "outputs": [],
   "source": [
    "import numpy as np\n",
    "from scipy import linalg as la\n",
    "np.set_printoptions(edgeitems=30, linewidth=100000, \n",
    "    formatter=dict(float=lambda x: \"%.3g\" % x))\n",
    "import random\n",
    "from matplotlib import pyplot as plt"
   ]
  },
  {
   "cell_type": "code",
   "execution_count": 52,
   "id": "047c39be",
   "metadata": {},
   "outputs": [],
   "source": [
    "trainData = np.genfromtxt('concrete/train.csv', delimiter=',')\n",
    "xTrain = np.transpose(trainData[:,:-1])\n",
    "yTrain = trainData[:,-1]"
   ]
  },
  {
   "cell_type": "code",
   "execution_count": 79,
   "id": "04b93626",
   "metadata": {},
   "outputs": [],
   "source": [
    "testData = np.genfromtxt('concrete/test.csv', delimiter=',')\n",
    "xTest= np.transpose(testData[:,:-1])\n",
    "yTest = testData[:,-1]"
   ]
  },
  {
   "cell_type": "code",
   "execution_count": 80,
   "id": "db034395",
   "metadata": {},
   "outputs": [
    {
     "name": "stdout",
     "output_type": "stream",
     "text": [
      "[[0.898 0.783 0.848 1.3 0.129 1.57 0.996]] [-0.0153]\n",
      "[0.566]\n"
     ]
    },
    {
     "data": {
      "text/plain": [
       "[<matplotlib.lines.Line2D at 0x2d882315520>]"
      ]
     },
     "execution_count": 80,
     "metadata": {},
     "output_type": "execute_result"
    },
    {
     "data": {
      "image/png": "[encoded data removed]",
      "text/plain": [
       "<Figure size 432x288 with 1 Axes>"
      ]
     },
     "metadata": {
      "needs_background": "light"
     },
     "output_type": "display_data"
    }
   ],
   "source": [
    "#Batch Gradient Descent\n",
    "r = 0.125\n",
    "xLen = xTrain.shape[0]\n",
    "m = xTrain.shape[1]\n",
    "\n",
    "wCurr = np.zeros((1,xLen))\n",
    "bCurr = 0\n",
    "\n",
    "def anyGT(w,b,n):\n",
    "    if(b > n):\n",
    "        return True\n",
    "    if((w[0,:] > n).any()):\n",
    "        return True\n",
    "    return False\n",
    "\n",
    "dw = np.ones((1,xLen))\n",
    "db = 1\n",
    "costs = []\n",
    "for i in range(m):\n",
    "    x = xTrain[:,i]\n",
    "    wx = wCurr.dot(x)\n",
    "    cost += ((bCurr + wx - yTrain[i])**2)/(2*m)\n",
    "costs.append(cost)\n",
    "while(anyGT(dw,db,1e-6)):\n",
    "    #print(dw[0,:],db)\n",
    "    dw = np.zeros((1,xLen))\n",
    "    db = 0\n",
    "    for i in range(m):\n",
    "        x = xTrain[:,i]\n",
    "        wx = wCurr.dot(x)\n",
    "        dw += (bCurr+wx-yTrain[i]) * x\n",
    "        db += (bCurr+wx-yTrain[i])\n",
    "    wCurr = wCurr - r*dw/m\n",
    "    bCurr = bCurr - r*db/m\n",
    "    cost = 0\n",
    "    for i in range(m):\n",
    "        x = xTrain[:,i]\n",
    "        wx = wCurr.dot(x)\n",
    "        cost += ((bCurr + wx - yTrain[i])**2)/(2*m)\n",
    "    costs.append(cost)\n",
    "    dw = abs(r*dw/m)\n",
    "    db = abs(r*db/m)\n",
    "    \n",
    "print(wCurr,bCurr)\n",
    "m = xTest.shape[0]\n",
    "cost = 0\n",
    "for i in range(m):\n",
    "    x = xTest[:,i]\n",
    "    wx = wCurr.dot(x)\n",
    "    cost += ((bCurr + wx - yTest[i])**2)/(2*m)\n",
    "print(cost)\n",
    "plt.plot(costs)"
   ]
  },
  {
   "cell_type": "code",
   "execution_count": 87,
   "id": "edd6bb9c",
   "metadata": {
    "scrolled": true
   },
   "outputs": [
    {
     "name": "stdout",
     "output_type": "stream",
     "text": [
      "[[0.356 0.247 0.277 0.898 0.0925 0.864 0.475]] [-0.0539]\n",
      "[0.527]\n"
     ]
    },
    {
     "data": {
      "text/plain": [
       "[<matplotlib.lines.Line2D at 0x2d8840d0df0>]"
      ]
     },
     "execution_count": 87,
     "metadata": {},
     "output_type": "execute_result"
    },
    {
     "data": {
      "image/png": "[encoded data removed]",
      "text/plain": [
       "<Figure size 432x288 with 1 Axes>"
      ]
     },
     "metadata": {
      "needs_background": "light"
     },
     "output_type": "display_data"
    }
   ],
   "source": [
    "#Stochastic Gradient Descent\n",
    "random.seed()\n",
    "r = 0.125\n",
    "xLen = xTrain.shape[0]\n",
    "m = xTrain.shape[1]\n",
    "\n",
    "wCurr = np.zeros((1,xLen))\n",
    "bCurr = 0\n",
    "\n",
    "def anyGT(w,b,n):\n",
    "    if(b > n):\n",
    "        return True\n",
    "    if((w > n).any()):\n",
    "        return True\n",
    "    return False\n",
    "\n",
    "costs = []\n",
    "for i in range(m):\n",
    "    x = xTrain[:,i]\n",
    "    wx = wCurr.dot(x)\n",
    "    cost += ((bCurr + wx - yTrain[i])**2)/(2*m)\n",
    "costs.append(cost)\n",
    "dw = np.ones((1,xLen))\n",
    "db = 1\n",
    "while(anyGT(dw,db,1e-7)):\n",
    "    #print(dw,db)\n",
    "    i = random.randrange(m)\n",
    "    x = xTrain[:,i]\n",
    "    wx = wCurr.dot(x)\n",
    "    dw = (bCurr+wx-yTrain[i]) * x/m\n",
    "    db = (bCurr+wx-yTrain[i])/m\n",
    "    wCurr = wCurr - r*dw\n",
    "    bCurr = bCurr - r*db\n",
    "    cost = 0\n",
    "    for i in range(m):\n",
    "        x = xTrain[:,i]\n",
    "        wx = wCurr.dot(x)\n",
    "        cost += ((bCurr + wx - yTrain[i])**2)/(2*m)\n",
    "    costs.append(cost)\n",
    "    dw = abs(r*dw)\n",
    "    db = abs(r*db)\n",
    "    \n",
    "print(wCurr,bCurr)\n",
    "m = xTest.shape[0]\n",
    "cost = 0\n",
    "for i in range(m):\n",
    "    x = xTest[:,i]\n",
    "    wx = wCurr.dot(x)\n",
    "    cost += ((bCurr + wx - yTest[i])**2)/(2*m)\n",
    "print(cost)\n",
    "plt.plot(costs)"
   ]
  },
  {
   "cell_type": "code",
   "execution_count": 90,
   "id": "7f056f1a",
   "metadata": {},
   "outputs": [
    {
     "name": "stdout",
     "output_type": "stream",
     "text": [
      "[-0.0152 0.901 0.786 0.851 1.3 0.13 1.57 0.999]\n"
     ]
    }
   ],
   "source": [
    "#Calculate Optimal Solution\n",
    "m = xTrain.shape[1]\n",
    "b = np.ones(m)\n",
    "newX = np.transpose(np.insert(np.transpose(xTrain), 0, b, axis=1))\n",
    "XTX = np.matmul(newX,np.transpose(newX))\n",
    "XTXI = la.inv(XTX)\n",
    "XTXIX = np.matmul(XTXI,newX)\n",
    "W = np.matmul(XTXIX,yTrain)\n",
    "print(W)"
   ]
  },
  {
   "cell_type": "code",
   "execution_count": null,
   "id": "5afb5321",
   "metadata": {},
   "outputs": [],
   "source": []
  }
 ],
 "metadata": {
  "kernelspec": {
   "display_name": "Python 3 (ipykernel)",
   "language": "python",
   "name": "python3"
  },
  "language_info": {
   "codemirror_mode": {
    "name": "ipython",
    "version": 3
   },
   "file_extension": ".py",
   "mimetype": "text/x-python",
   "name": "python",
   "nbconvert_exporter": "python",
   "pygments_lexer": "ipython3",
   "version": "3.8.5"
  }
 },
 "nbformat": 4,
 "nbformat_minor": 5
}
